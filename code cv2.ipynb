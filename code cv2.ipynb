{
 "cells": [
  {
   "cell_type": "code",
   "execution_count": 28,
   "id": "d1aa09a9-7443-489c-a051-7985f1e3f88f",
   "metadata": {},
   "outputs": [
    {
     "ename": "ModuleNotFoundError",
     "evalue": "No module named 'cv2'",
     "output_type": "error",
     "traceback": [
      "\u001b[1;31m---------------------------------------------------------------------------\u001b[0m",
      "\u001b[1;31mModuleNotFoundError\u001b[0m                       Traceback (most recent call last)",
      "Cell \u001b[1;32mIn[28], line 1\u001b[0m\n\u001b[1;32m----> 1\u001b[0m \u001b[38;5;28;01mimport\u001b[39;00m \u001b[38;5;21;01mcv2\u001b[39;00m\n\u001b[0;32m      2\u001b[0m \u001b[38;5;28;01mimport\u001b[39;00m \u001b[38;5;21;01mnumpy\u001b[39;00m \u001b[38;5;28;01mas\u001b[39;00m \u001b[38;5;21;01mnp\u001b[39;00m\n\u001b[0;32m      3\u001b[0m \u001b[38;5;28;01mimport\u001b[39;00m \u001b[38;5;21;01mmatplotlib\u001b[39;00m\u001b[38;5;21;01m.\u001b[39;00m\u001b[38;5;21;01mpyplot\u001b[39;00m \u001b[38;5;28;01mas\u001b[39;00m \u001b[38;5;21;01mplt\u001b[39;00m\n",
      "\u001b[1;31mModuleNotFoundError\u001b[0m: No module named 'cv2'"
     ]
    }
   ],
   "source": [
    "import cv2\n",
    "import numpy as np\n",
    "import matplotlib.pyplot as plt\n",
    "\n",
    "image=cv2.imread(r\"C:\\Users\\Administrator\\Desktop\\iris2.jpg\")\n",
    "image_rpg = cv2.cvtColor(image,cv2.COLOR_BGR2RGB)\n",
    "pixel = image_rgb.eshape((-1,3))\n",
    "pixel = np.float32(pixel)\n",
    "\n",
    "criteria = (cv2.TERM_CRITERIA_EFS + cv2.TERM_CRITERIA_MAX_ITER, 100, 0.85)\n",
    "k = 10\n",
    "_, labels, centers = cv2.kmeans(pixel, k, None, criteria, 5, cv2.KMEANS_PP_CENTERS)\n",
    "centers = np.uint8(centers)\n",
    "_, counts = np.unique(labels, return_counts=True)\n",
    "fig, ax = plt.subplots(1, 2, figsize=(14, 5))\n",
    "segmented_data = centers[labels.flatten()]\n",
    "segmented_image = segmented_data.reshape(image_rgb.shape)\n",
    "ax[0].imshow(segmented_image)\n",
    "ax[0].set_title(\"segmented_image\")\n",
    "ax[0].axis('off')\n",
    "sorted_indices = np.argsort(-counts)\n",
    "sorted_colors = centers[sorted_indices]\n",
    "sorted_counts = counts[sorted_indices]\n",
    "fractions = sorted_counts / sum(sorted_counts)\n",
    "ax[1].pie(fractions, colors=np.arry(sorted_colors)/255, labels = [f'{i+1}' for i in range(k)], startangle=90, counterclock=False)\n",
    "ax[1].set_title(\"Dominant Colors (Pie Chart)\")\n",
    "plt.tight_layout()\n",
    "plt.show()"
   ]
  },
  {
   "cell_type": "code",
   "execution_count": null,
   "id": "448e2ce4-6fc6-415e-bf0b-2209e800957a",
   "metadata": {},
   "outputs": [],
   "source": []
  }
 ],
 "metadata": {
  "kernelspec": {
   "display_name": "Python [conda env:base] *",
   "language": "python",
   "name": "conda-base-py"
  },
  "language_info": {
   "codemirror_mode": {
    "name": "ipython",
    "version": 3
   },
   "file_extension": ".py",
   "mimetype": "text/x-python",
   "name": "python",
   "nbconvert_exporter": "python",
   "pygments_lexer": "ipython3",
   "version": "3.12.7"
  }
 },
 "nbformat": 4,
 "nbformat_minor": 5
}
